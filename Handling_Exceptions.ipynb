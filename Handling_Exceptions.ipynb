{
 "cells": [
  {
   "cell_type": "markdown",
   "metadata": {},
   "source": [
    "## Handling \"exceptions\"\n",
    "\n",
    "When you're programming, a lot can happen that you don't expect. You'll encounter a few different sets of errors:\n",
    "\n",
    "* Things that are your fault (e.g. you had a typo)\n",
    "* Things that aren't your fault, but that are under your control (you expected a CSV to be in Dropbox that someone else on your team deleted)\n",
    "* Things that aren't your fault, but *not* under your control (you're using the Google Maps API to pull data, but Google returned an error)\n",
    "\n",
    "**In Python, these errors are called \"exceptions\"** (the behavior is an _exception_ to normal behavior). You can write your code _without_ handling exceptions, but your programs will fail miserably. We'll see examples of such failures below. \n",
    "\n",
    "Your program may not be able to run without that CSV, or without hitting Google's API, so failing miserably might be OK in certain circumstances. But often, **just having your program fail isn't what you want**. If Google's API goes down, you may want to try hitting it again in 30 seconds. If that CSV you expect to be there isn't, you may want your script to send you an email letting you know.\n",
    "\n",
    "### Objectives\n",
    "\n",
    "* We'll start by reviewing the format of exceptions themselves, so you know how to read them when you encounter them.\n",
    "* **The simplest way to catch and handle exceptions is with a `try`/`except` block**. We'll review how to handle simple exceptions using this technique."
   ]
  },
  {
   "cell_type": "markdown",
   "metadata": {},
   "source": [
    "### Objective 1: Understanding Exceptions\n",
    "\n",
    "To handle exceptions, you need to be able to interpret them.\n",
    "\n",
    "First, let's create an empty dictionary, and then attempt to reference the value at key 'a' **before we set a value at that key**."
   ]
  },
  {
   "cell_type": "code",
   "execution_count": 46,
   "metadata": {},
   "outputs": [
    {
     "ename": "KeyError",
     "evalue": "'a'",
     "output_type": "error",
     "traceback": [
      "\u001b[0;31m---------------------------------------------------------------------------\u001b[0m",
      "\u001b[0;31mKeyError\u001b[0m                                  Traceback (most recent call last)",
      "\u001b[0;32m<ipython-input-46-7861ed8bef80>\u001b[0m in \u001b[0;36m<module>\u001b[0;34m()\u001b[0m\n\u001b[1;32m      1\u001b[0m \u001b[0mdict\u001b[0m \u001b[0;34m=\u001b[0m \u001b[0;34m{\u001b[0m\u001b[0;34m}\u001b[0m\u001b[0;34m\u001b[0m\u001b[0m\n\u001b[0;32m----> 2\u001b[0;31m \u001b[0mprint\u001b[0m\u001b[0;34m(\u001b[0m\u001b[0;34m\"The value at key 'a' is: %s\"\u001b[0m \u001b[0;34m%\u001b[0m \u001b[0mdict\u001b[0m\u001b[0;34m[\u001b[0m\u001b[0;34m'a'\u001b[0m\u001b[0;34m]\u001b[0m\u001b[0;34m)\u001b[0m\u001b[0;34m\u001b[0m\u001b[0m\n\u001b[0m",
      "\u001b[0;31mKeyError\u001b[0m: 'a'"
     ]
    }
   ],
   "source": [
    "dict = {}\n",
    "print(\"The value at key 'a' is: %s\" % dict['a'])"
   ]
  },
  {
   "cell_type": "markdown",
   "metadata": {},
   "source": [
    "At first glance, this looks difficult to interpret. But there's a few key things Python is telling us that will help us 1.) understand the error and 2.) handle it.\n",
    "\n",
    "The very first word in that error is **`KeyError`**. `KeyError` is the type of exception that Python has \"raised\" here (\"raising\" an exception just means the exception occurred). \n",
    "\n",
    "A \"Traceback\" follows: the set of code that caused the error. There's a big arrow pointing to the line that generated our error:\n",
    "\n",
    "    ----> 2 print(\"The value at key 'a' is: %s\" % dict['a'])\n",
    "    \n",
    "So we know our error happened somewhere in line 2.\n",
    "\n",
    "We get a final bit of information specific to our exception at the bottom of this message. As the name indicates, `KeyError` is an error related to keys. Here, the only place we're using a key is when we try to reference the value of key 'a' in our dictionary dict. And that final line tells us the key where we received the `KeyError`:\n",
    "\n",
    "    KeyError: 'a'\n",
    "    \n",
    "It's a `KeyError` on the key 'a'. Pretty quickly, we can scan back through our code and we realize that **we've forgotten to set a value at key 'a'**!\n",
    "\n",
    "Let's take a look at another exception:"
   ]
  },
  {
   "cell_type": "code",
   "execution_count": 47,
   "metadata": {},
   "outputs": [
    {
     "ename": "IndexError",
     "evalue": "list index out of range",
     "output_type": "error",
     "traceback": [
      "\u001b[0;31m---------------------------------------------------------------------------\u001b[0m",
      "\u001b[0;31mIndexError\u001b[0m                                Traceback (most recent call last)",
      "\u001b[0;32m<ipython-input-47-361b1cb7530a>\u001b[0m in \u001b[0;36m<module>\u001b[0;34m()\u001b[0m\n\u001b[1;32m      1\u001b[0m \u001b[0mli\u001b[0m \u001b[0;34m=\u001b[0m \u001b[0;34m[\u001b[0m\u001b[0;34m]\u001b[0m\u001b[0;34m\u001b[0m\u001b[0m\n\u001b[0;32m----> 2\u001b[0;31m \u001b[0mprint\u001b[0m\u001b[0;34m(\u001b[0m\u001b[0;34m\"The first element of our list is: %s\"\u001b[0m \u001b[0;34m%\u001b[0m \u001b[0mli\u001b[0m\u001b[0;34m[\u001b[0m\u001b[0;36m0\u001b[0m\u001b[0;34m]\u001b[0m\u001b[0;34m)\u001b[0m\u001b[0;34m\u001b[0m\u001b[0m\n\u001b[0m\u001b[1;32m      3\u001b[0m \u001b[0mprint\u001b[0m\u001b[0;34m(\u001b[0m\u001b[0;34m\"We want this code to run, but we'll never get here\"\u001b[0m\u001b[0;34m)\u001b[0m\u001b[0;34m\u001b[0m\u001b[0m\n",
      "\u001b[0;31mIndexError\u001b[0m: list index out of range"
     ]
    }
   ],
   "source": [
    "li = []\n",
    "print(\"The first element of our list is: %s\" % li[0])\n",
    "print(\"We want this code to run, but we'll never get here\")"
   ]
  },
  {
   "cell_type": "markdown",
   "metadata": {},
   "source": [
    "We learned a little bit about the format of our exception names above: if `KeyError` referred to an error with our use of keys, **`IndexError` refers to errors with our use of an index**.\n",
    "\n",
    "Let's look at the traceback: this is happening on line 2, again, and the message is telling us our list index is \"out of range\". The only index we're using here is `0`, when we try to print the first element of the list. Again, **we haven't added any values to our list, so there is no value at that index**.\n",
    "\n",
    "**So much of reading exceptions involves understanding the basic language around the data types we're working with**: key, index, etc. Once you grasp this language, reading these messages can be easier than they look.\n",
    "\n",
    "It's worth noting that we had a final line of code in the cell above:\n",
    "\n",
    "    print(\"We want this code to run, but we'll never get here\")\n",
    "    \n",
    "This never executed. **Remember: When exceptions occur, the whole program fails miserably, and the remaining code fails to run**."
   ]
  },
  {
   "cell_type": "markdown",
   "metadata": {},
   "source": [
    "### Objective 2: Using try/except to handle exceptions\n",
    "\n",
    "Clearly, the examples above were trivial errors. Each of those were bugs in our code, and within our control to fix.\n",
    "\n",
    "Real-world errors are rarely this simple. Often, you're dealing with data users give you, or fetching data from external APIs, where many things can and will go wrong. It's not your own code that's the problem. Obviously, your code is perfect. Unexpected issues appear that cause your perfect code to fail.\n",
    "\n",
    "Let's work with our dictionary example above. This time, we'll \"handle\" our `KeyError` exception with a `try`/`except` block:"
   ]
  },
  {
   "cell_type": "code",
   "execution_count": 48,
   "metadata": {},
   "outputs": [
    {
     "name": "stdout",
     "output_type": "stream",
     "text": [
      "Something went wrong!\n",
      "But our program keeps running...\n"
     ]
    }
   ],
   "source": [
    "dict = {}\n",
    "\n",
    "# Put your code within the 'try' block\n",
    "try:\n",
    "    ## You fetch data from the Google Maps API and add it to your dictionary 'dict'.\n",
    "    ## You expect to have some data at key 'a'. \n",
    "\n",
    "    print(\"The value at key 'a' is: %s\" % dict['a'])\n",
    "    \n",
    "# If you encounter _any_ exception in the code within the try block, \n",
    "# the code will \"jump\" to the code within the except block. Here,\n",
    "# that means we'll print \"Something went wrong!\"\n",
    "except:\n",
    "    print(\"Something went wrong!\")\n",
    "    \n",
    "print(\"But our program keeps running...\")"
   ]
  },
  {
   "cell_type": "markdown",
   "metadata": {},
   "source": [
    "As written, we have no value at the key 'a' in our dictionary (as above). This triggers a `KeyError`. But we don't see a `KeyError` message here. Instead, we print the message \"*Something went wrong!*\".\n",
    "\n",
    "A `try`/`except` block works like this:\n",
    "\n",
    "* Put the code you want to run within the `try` block.\n",
    "* If you encounter _any_ exception (a `KeyError`, an `IndexError`, etc.), the code within the `try` block stops executing at the line where it failed, and Python immediately executes the code within the `except` block.\n",
    "\n",
    "The keywords `try` and `except` come as a pair: you cannot have one without the other.\n",
    "\n",
    "**Note: since we \"handled\" our `KeyError` exception, the rest of our program kept running**. This is the whole point of exception handling: you retain control of how your program handles the error. You can keep moving if you want. Or you can still fail miserably, if it doesn't make sense to continue based on the error.\n",
    "\n",
    "Here, we handle our error with a vague message: \"*Something went wrong!*\". Typically, you'd want to handle this error in a better way. How can we improve this?\n",
    "\n",
    "First, **you may want to print the error that occurred so you can investigate it later**. Here's how we do that:"
   ]
  },
  {
   "cell_type": "code",
   "execution_count": 49,
   "metadata": {},
   "outputs": [
    {
     "name": "stdout",
     "output_type": "stream",
     "text": [
      "Something went wrong: KeyError('a',)\n"
     ]
    }
   ],
   "source": [
    "dict = {}\n",
    "try:\n",
    "    print(\"The value at key 'a' is: %s\" % dict['a'])\n",
    "except Exception as e:\n",
    "    print(\"Something went wrong: %s\" % repr(e))"
   ]
  },
  {
   "cell_type": "markdown",
   "metadata": {},
   "source": [
    "Here's how this works:\n",
    "\n",
    "* `except Exception as e` captures any exception, naming our exception object `e`. This means we can use `e` to reference the exception that occurred within our `except` block.\n",
    "* `repr(e)` prints a string representation of our exception, which contains both the exception that occurred (`KeyError`) and the key that caused the exception ('a')\n",
    "\n",
    "To re-iterate our key takeways so far: \n",
    "\n",
    "* Keep the normal code you want to run within your `try` block.\n",
    "* If anything goes wrong with that code, and an exception is \"raised\" (i.e some error happens), and no more code within that `try` block is run past the line that failed. \n",
    "* Then, the code within the `except` block is run.\n",
    "* Any code that follows the `except` block is also run - the program continues unless you explicitly decide to exit.\n",
    "\n",
    "So far, we've been handling **any** exception (`KeyError`, `IndexError`, etc.) within our `except` block. No matter the error, the code within our `except` block is run. What happens if we want to handle different errors differently?"
   ]
  },
  {
   "cell_type": "code",
   "execution_count": 50,
   "metadata": {},
   "outputs": [
    {
     "name": "stdout",
     "output_type": "stream",
     "text": [
      "It looks like there's no key 'a' in our dictionary\n"
     ]
    }
   ],
   "source": [
    "try:\n",
    "    dict = {}\n",
    "    print(\"The value at key 'a' is: %s\" % dict['a'])\n",
    "except KeyError as e:\n",
    "    print(\"It looks like there's no key %s in our dictionary\" % str(e))\n",
    "except IndexError as e:\n",
    "    print(\"It looks like there's no element at index %s in our list\" % str(e))\n",
    "except Exception as e:\n",
    "    print(\"Some other error occurred: %s\"% repr(e))"
   ]
  },
  {
   "cell_type": "markdown",
   "metadata": {},
   "source": [
    "`except KeyError as e` allows us to handle `KeyError` exceptions specifically within this block. We're telling Python: when I see a `KeyError` exception, run the code within this block.\n",
    "\n",
    "`except IndexError as e` does the same thing for `IndexError` exceptions: when Python encounters an `IndexError`, specifically, it will **skip the KeyError section** and run the code within this block, instead.\n",
    "\n",
    "`except Exception as e` comes last: `Exception` is a catch-all exception type. If any other exceptions occur, we'll execute the code within this final block.\n",
    "\n",
    "You'll notice we're using `str(e)` to print the key 'a' in our `KeyError` exception. `str(e)` happens to return the _value_ of the exception, that is the key that caused Python to throw the `KeyError` exception. But this is simply how `KeyError` generates its exception message. This may not work for other exceptions (in fact, it _does not_ work for `IndexError`, as we'll see below).\n",
    "\n",
    "Let's change the code slightly so that we throw an `IndexError`, instead:"
   ]
  },
  {
   "cell_type": "code",
   "execution_count": 51,
   "metadata": {},
   "outputs": [
    {
     "name": "stdout",
     "output_type": "stream",
     "text": [
      "It looks like we received an IndexError: IndexError('list index out of range',)\n"
     ]
    }
   ],
   "source": [
    "try:\n",
    "    li = []\n",
    "    print(\"The first element of our list is: %s\" % li[0])\n",
    "except KeyError as e:\n",
    "    print(\"It looks like there's no key %s in our dictionary\" % str(e))\n",
    "except IndexError as e:\n",
    "    print(\"It looks like we received an IndexError: %s\" % repr(e))\n",
    "except Exception as e:\n",
    "    print(\"Some other error occurred: %s\"% repr(e))"
   ]
  },
  {
   "cell_type": "markdown",
   "metadata": {},
   "source": [
    "Here, we ran the code within our `IndexError` block, since we encountered an `IndexError` in the main code (within our `try` block).\n",
    "\n",
    "Let's generate another exception that will not be caught by either our `KeyError` or `IndexError` blocks. **What code will be run in that case?**"
   ]
  },
  {
   "cell_type": "code",
   "execution_count": 52,
   "metadata": {},
   "outputs": [
    {
     "name": "stdout",
     "output_type": "stream",
     "text": [
      "Some other error occurred: ZeroDivisionError('division by zero',)\n"
     ]
    }
   ],
   "source": [
    "try:\n",
    "    # Remember that we cannot divide by 0\n",
    "    1 / 0\n",
    "except KeyError as e:\n",
    "    print(\"It looks like there's no key %s in our dictionary\" % str(e))\n",
    "except IndexError as e:\n",
    "    print(\"It looks like we received an IndexError: %s\" % repr(e))\n",
    "except Exception as e:\n",
    "    print(\"Some other error occurred: %s\"% repr(e))"
   ]
  },
  {
   "cell_type": "markdown",
   "metadata": {},
   "source": [
    "Remember that the `except Exception as e` block captures *any other* exception that we don't otherwise have specific `except` blocks to capture. **`except Exception as e` acts as a catch-all**.\n",
    "\n",
    "There's one final thing to note about syntax errors. Look at what happens with the following block of code:"
   ]
  },
  {
   "cell_type": "code",
   "execution_count": 53,
   "metadata": {},
   "outputs": [
    {
     "ename": "SyntaxError",
     "evalue": "Missing parentheses in call to 'print'. Did you mean print(int \"This is a syntax error\")? (<ipython-input-53-db3454f5e0d8>, line 2)",
     "output_type": "error",
     "traceback": [
      "\u001b[0;36m  File \u001b[0;32m\"<ipython-input-53-db3454f5e0d8>\"\u001b[0;36m, line \u001b[0;32m2\u001b[0m\n\u001b[0;31m    print \"This is a syntax error\"\u001b[0m\n\u001b[0m                                 ^\u001b[0m\n\u001b[0;31mSyntaxError\u001b[0m\u001b[0;31m:\u001b[0m Missing parentheses in call to 'print'. Did you mean print(int \"This is a syntax error\")?\n"
     ]
    }
   ],
   "source": [
    "try:\n",
    "    print \"This is a syntax error\"\n",
    "except KeyError as e:\n",
    "    print(\"It looks like there's no key %s in our dictionary\" % str(e))\n",
    "except IndexError as e:\n",
    "    print(\"It looks like we received an IndexError: %s\" % repr(e))\n",
    "except Exception as e:\n",
    "    print(\"Some other error occurred: %s\"% repr(e))"
   ]
  },
  {
   "cell_type": "markdown",
   "metadata": {},
   "source": [
    "**This raises a `SyntaxError` exception**, which isn't expected. Why doesn't our `except Exception as e` block catch this syntax error?\n",
    "\n",
    "Before a Python program is *executed*, its code is *parsed*. Python looks at the code and says, \"here's a `for` loop, here's an `if else` block, here's a `print` statement\", etc. This is parsing: Python **lays out a plan for executing the code before it actually executes it**. The code must be well-structured for the plan to succeed. If Python notices any major errors - namely, any errors in the basic structure of the code - the parsing fails. These errors typically manifest themselves as syntax errors.\n",
    "\n",
    "So the `SyntaxError` is raised above because it happens during the parsing stage, **before any code is ever executed**. The code within the `except Exception as e` block is never run, because **none of the code is run**.\n",
    "\n",
    "Why can't Python catch other errors, like `KeyError` or `IndexError`, in the parsing stage, and raise these errors before the program is run? That's the topic of another article..."
   ]
  },
  {
   "cell_type": "markdown",
   "metadata": {},
   "source": [
    "### Resources"
   ]
  },
  {
   "cell_type": "markdown",
   "metadata": {},
   "source": [
    "[Exceptions built into the Python language (like KeyError, IndexError)](https://docs.python.org/3/library/exceptions.html)"
   ]
  }
 ],
 "metadata": {
  "kernelspec": {
   "display_name": "Python 3",
   "language": "python",
   "name": "python3"
  },
  "language_info": {
   "codemirror_mode": {
    "name": "ipython",
    "version": 3
   },
   "file_extension": ".py",
   "mimetype": "text/x-python",
   "name": "python",
   "nbconvert_exporter": "python",
   "pygments_lexer": "ipython3",
   "version": "3.6.3"
  }
 },
 "nbformat": 4,
 "nbformat_minor": 2
}
