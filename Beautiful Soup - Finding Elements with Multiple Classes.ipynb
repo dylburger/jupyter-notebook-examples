{
 "cells": [
  {
   "cell_type": "code",
   "execution_count": 2,
   "metadata": {},
   "outputs": [],
   "source": [
    "from bs4 import BeautifulSoup as bs"
   ]
  },
  {
   "cell_type": "code",
   "execution_count": 3,
   "metadata": {},
   "outputs": [],
   "source": [
    "html = \"\"\"\n",
    "<!DOCTYPE html>\n",
    "<html>\n",
    "        <head>\n",
    "    <meta charset=\"utf-8\" />\n",
    "                <title>Test</title>\n",
    "        </head>\n",
    "        <body>\n",
    "    <p class=\"first second\">Some text here</p>\n",
    "    <p class=\"first\">More text here</p>\n",
    "    <p class=\"second\">Even more text here</p>\n",
    "        </body>\n",
    "</html>\n",
    "\"\"\""
   ]
  },
  {
   "cell_type": "code",
   "execution_count": 4,
   "metadata": {},
   "outputs": [],
   "source": [
    "soup = bs(html, 'html.parser')"
   ]
  },
  {
   "cell_type": "code",
   "execution_count": 5,
   "metadata": {},
   "outputs": [
    {
     "name": "stdout",
     "output_type": "stream",
     "text": [
      "<!DOCTYPE html>\n",
      "<html>\n",
      " <head>\n",
      "  <meta charset=\"utf-8\"/>\n",
      "  <title>\n",
      "   Test\n",
      "  </title>\n",
      " </head>\n",
      " <body>\n",
      "  <p class=\"first second\">\n",
      "   Some text here\n",
      "  </p>\n",
      "  <p class=\"first\">\n",
      "   More text here\n",
      "  </p>\n",
      "  <p class=\"second\">\n",
      "   Even more text here\n",
      "  </p>\n",
      " </body>\n",
      "</html>\n",
      "\n"
     ]
    }
   ],
   "source": [
    "print(soup.prettify())"
   ]
  },
  {
   "cell_type": "code",
   "execution_count": 6,
   "metadata": {},
   "outputs": [
    {
     "data": {
      "text/plain": [
       "[<p class=\"first second\">Some text here</p>,\n",
       " <p class=\"first\">More text here</p>]"
      ]
     },
     "execution_count": 6,
     "metadata": {},
     "output_type": "execute_result"
    }
   ],
   "source": [
    "# This should return any paragraph tags with the 'first' class,\n",
    "# even when paired with other classes\n",
    "paragraphs_with_first_class = soup.find_all('p', class_='first')\n",
    "paragraphs_with_first_class"
   ]
  },
  {
   "cell_type": "code",
   "execution_count": 7,
   "metadata": {},
   "outputs": [
    {
     "data": {
      "text/plain": [
       "[<p class=\"first second\">Some text here</p>,\n",
       " <p class=\"second\">Even more text here</p>]"
      ]
     },
     "execution_count": 7,
     "metadata": {},
     "output_type": "execute_result"
    }
   ],
   "source": [
    "paragraphs_with_second_class = soup.find_all('p', class_='second')\n",
    "paragraphs_with_second_class"
   ]
  },
  {
   "cell_type": "code",
   "execution_count": 8,
   "metadata": {},
   "outputs": [
    {
     "data": {
      "text/plain": [
       "[]"
      ]
     },
     "execution_count": 8,
     "metadata": {},
     "output_type": "execute_result"
    }
   ],
   "source": [
    "# Let's try to match all paragraphs by class substring. Will 'fir' match p tags with the class 'first'?\n",
    "paragraphs_with_partial_match = soup.find_all('p', class_='fir')\n",
    "paragraphs_with_partial_match"
   ]
  },
  {
   "cell_type": "markdown",
   "metadata": {},
   "source": [
    "Passing the substring to the `class_` keyword won't work, but we can use [CSS Selectors](https://developer.mozilla.org/en-US/docs/Web/CSS/CSS_Selectors) to match more complex patterns of classes. The [`select` method](https://www.crummy.com/software/BeautifulSoup/bs4/doc/#css-selectors) of our BeautifulSoup object to select these elements instead of `find`."
   ]
  },
  {
   "cell_type": "code",
   "execution_count": 12,
   "metadata": {},
   "outputs": [
    {
     "data": {
      "text/plain": [
       "[<p class=\"first second\">Some text here</p>,\n",
       " <p class=\"first\">More text here</p>]"
      ]
     },
     "execution_count": 12,
     "metadata": {},
     "output_type": "execute_result"
    }
   ],
   "source": [
    "paragraphs_with_partial_match = soup.select('p[class*=\"fir\"]')\n",
    "paragraphs_with_partial_match"
   ]
  }
 ],
 "metadata": {
  "kernelspec": {
   "display_name": "Python 3",
   "language": "python",
   "name": "python3"
  },
  "language_info": {
   "codemirror_mode": {
    "name": "ipython",
    "version": 3
   },
   "file_extension": ".py",
   "mimetype": "text/x-python",
   "name": "python",
   "nbconvert_exporter": "python",
   "pygments_lexer": "ipython3",
   "version": "3.5.1"
  }
 },
 "nbformat": 4,
 "nbformat_minor": 2
}
