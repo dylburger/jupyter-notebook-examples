{
 "cells": [
  {
   "cell_type": "markdown",
   "metadata": {},
   "source": [
    "## Python classes\n",
    "\n",
    "Everything in Python is an object: lists, dictionaries, `pandas` DataFrames, etc.\n",
    "\n",
    "Every object has **attributes** (data associated with the object) and **methods** (functions that can be run directly on the object.\n",
    "\n",
    "Let's take a look at an object we know well - the list - to build up these concepts from square one."
   ]
  },
  {
   "cell_type": "code",
   "execution_count": 1,
   "metadata": {},
   "outputs": [],
   "source": [
    "a = [1, 2, 3]"
   ]
  },
  {
   "cell_type": "markdown",
   "metadata": {},
   "source": [
    "You can examine all of the attributes and methods of any object using the (`dir`)[https://docs.python.org/3/library/functions.html#dir] function, built into Python. `dir` states:\n",
    "\n",
    "> If the object has a method named __dir__(), this method will be called and must return the list of attributes."
   ]
  },
  {
   "cell_type": "code",
   "execution_count": 2,
   "metadata": {},
   "outputs": [
    {
     "data": {
      "text/plain": [
       "['__add__',\n",
       " '__class__',\n",
       " '__contains__',\n",
       " '__delattr__',\n",
       " '__delitem__',\n",
       " '__dir__',\n",
       " '__doc__',\n",
       " '__eq__',\n",
       " '__format__',\n",
       " '__ge__',\n",
       " '__getattribute__',\n",
       " '__getitem__',\n",
       " '__gt__',\n",
       " '__hash__',\n",
       " '__iadd__',\n",
       " '__imul__',\n",
       " '__init__',\n",
       " '__iter__',\n",
       " '__le__',\n",
       " '__len__',\n",
       " '__lt__',\n",
       " '__mul__',\n",
       " '__ne__',\n",
       " '__new__',\n",
       " '__reduce__',\n",
       " '__reduce_ex__',\n",
       " '__repr__',\n",
       " '__reversed__',\n",
       " '__rmul__',\n",
       " '__setattr__',\n",
       " '__setitem__',\n",
       " '__sizeof__',\n",
       " '__str__',\n",
       " '__subclasshook__',\n",
       " 'append',\n",
       " 'clear',\n",
       " 'copy',\n",
       " 'count',\n",
       " 'extend',\n",
       " 'index',\n",
       " 'insert',\n",
       " 'pop',\n",
       " 'remove',\n",
       " 'reverse',\n",
       " 'sort']"
      ]
     },
     "execution_count": 2,
     "metadata": {},
     "output_type": "execute_result"
    }
   ],
   "source": [
    "dir(a)"
   ]
  },
  {
   "cell_type": "markdown",
   "metadata": {},
   "source": [
    "Some of these names, in the context of lists, should look familiar (e.g. `append`, `reverse`). Others may look more strange (e.g. all the \"dunder\" attributes and methods, e.g. `__class__`).\n",
    "\n",
    "You're already familiar with how to use methods, like `append`:"
   ]
  },
  {
   "cell_type": "code",
   "execution_count": 4,
   "metadata": {},
   "outputs": [
    {
     "data": {
      "text/plain": [
       "[1, 2, 3, 4, 4]"
      ]
     },
     "execution_count": 4,
     "metadata": {},
     "output_type": "execute_result"
    }
   ],
   "source": [
    "a.append(4)\n",
    "a"
   ]
  },
  {
   "cell_type": "markdown",
   "metadata": {},
   "source": [
    "`append` simply adds the element provided as an argument to the end of a list. The same syntax applies for methods of other objects, like `pandas` DataFrames:"
   ]
  },
  {
   "cell_type": "code",
   "execution_count": 6,
   "metadata": {},
   "outputs": [
    {
     "data": {
      "text/plain": [
       "num    1\n",
       "Name: 0, dtype: int64"
      ]
     },
     "execution_count": 6,
     "metadata": {},
     "output_type": "execute_result"
    }
   ],
   "source": [
    "from pandas import DataFrame\n",
    "df = DataFrame([{'num': 1}, {'num': 2}])\n",
    "df.loc[0]"
   ]
  },
  {
   "cell_type": "markdown",
   "metadata": {},
   "source": [
    "`loc` is also a method. A method is just a function tied to an object. When we run `df.loc[0]`, we're expecting to get a `Series` tied to the row at index 0 of the `DataFrame` `df`. We know implicitly that we're returning data tied to `df`, since we're running the `loc` method on it.\n",
    "\n",
    "lists and DataFrames are referred to as \"classes\". The list `a` and the DataFrame `df` are *instances* of these classes, otherwise known as objects.\n",
    "\n",
    "The class provides a template. We know that all lists have elements, separated by commas. But we create different lists to hold different data. DataFrames are no different: we're reading in data from different CSVs, or data from API endpoints, to create different DataFrames. But they're all the same *type* of data:"
   ]
  },
  {
   "cell_type": "code",
   "execution_count": 7,
   "metadata": {},
   "outputs": [
    {
     "name": "stdout",
     "output_type": "stream",
     "text": [
      "<class 'list'>\n"
     ]
    }
   ],
   "source": [
    "print(type(a))"
   ]
  },
  {
   "cell_type": "code",
   "execution_count": 9,
   "metadata": {},
   "outputs": [
    {
     "name": "stdout",
     "output_type": "stream",
     "text": [
      "<class 'list'>\n"
     ]
    }
   ],
   "source": [
    "# Another list\n",
    "b = [5, 6, 7]\n",
    "print(type(b))"
   ]
  },
  {
   "cell_type": "markdown",
   "metadata": {},
   "source": [
    "`a` and `b` are both lists. We can also examine the type of each object using the `__class__` attribute:"
   ]
  },
  {
   "cell_type": "code",
   "execution_count": 10,
   "metadata": {},
   "outputs": [
    {
     "name": "stdout",
     "output_type": "stream",
     "text": [
      "<class 'list'>\n",
      "<class 'list'>\n"
     ]
    }
   ],
   "source": [
    "print(a.__class__)\n",
    "print(b.__class__)"
   ]
  },
  {
   "cell_type": "markdown",
   "metadata": {},
   "source": [
    "This returns the same thing! Our lists are just objects of class (or type) `list`."
   ]
  },
  {
   "cell_type": "markdown",
   "metadata": {},
   "source": [
    "### Creating your own classes\n",
    "\n",
    "Lists provide a great way to store ordered data. DataFrames provide a way to store tables of data, exposing methods for us to find averages, sums, and perform other analysis. But what if we needed to model a more complex real-world problem, where lists, DataFrames, or classes just don't provide the functionality we need?\n",
    "\n",
    "Here, it makes sense to create your own class. First, let's try to model a car with basic data structures, then examine how we'd create a class to do the same.\n",
    "\n",
    "Let's assume we just need to keep track of the make and model of a car, and let's assume we're purchasing a new car, with 0 miles on it. A dictionary might make sense to use. We can create a function that returns a dictionary with these data:"
   ]
  },
  {
   "cell_type": "code",
   "execution_count": 43,
   "metadata": {},
   "outputs": [],
   "source": [
    "def make_car(make, model):\n",
    "    car_dict = {'make': make, 'model': model, 'miles': 0}\n",
    "    return car_dict"
   ]
  },
  {
   "cell_type": "code",
   "execution_count": 44,
   "metadata": {},
   "outputs": [],
   "source": [
    "my_car = make_car(\"Toyota\", \"Corolla\")"
   ]
  },
  {
   "cell_type": "code",
   "execution_count": 45,
   "metadata": {},
   "outputs": [
    {
     "data": {
      "text/plain": [
       "{'make': 'Toyota', 'miles': 0, 'model': 'Corolla'}"
      ]
     },
     "execution_count": 45,
     "metadata": {},
     "output_type": "execute_result"
    }
   ],
   "source": [
    "my_car"
   ]
  },
  {
   "cell_type": "markdown",
   "metadata": {},
   "source": [
    "We need to define a function that lets us drive our car:"
   ]
  },
  {
   "cell_type": "code",
   "execution_count": 47,
   "metadata": {},
   "outputs": [
    {
     "data": {
      "text/plain": [
       "100"
      ]
     },
     "execution_count": 47,
     "metadata": {},
     "output_type": "execute_result"
    }
   ],
   "source": [
    "def drive_car(car, num_miles):\n",
    "    \"\"\" Given a car and a number of miles, drive our car that number of miles\n",
    "    \"\"\"\n",
    "    car['miles'] += num_miles\n",
    "    \n",
    "# Drive our car 100 miles\n",
    "drive_car(my_car, 100)\n",
    "my_car.get('miles')"
   ]
  },
  {
   "cell_type": "markdown",
   "metadata": {},
   "source": [
    "Every car has an owner. Let's modify our `make_car` function to take an owner as an argument:"
   ]
  },
  {
   "cell_type": "code",
   "execution_count": 48,
   "metadata": {},
   "outputs": [],
   "source": [
    "def make_car(make, model, owner):\n",
    "    car_dict = {'make': make, 'model': model, 'owner': owner, 'miles': 0}\n",
    "    return car_dict"
   ]
  },
  {
   "cell_type": "code",
   "execution_count": 51,
   "metadata": {},
   "outputs": [],
   "source": [
    "new_car = make_car(\"Toyota\", \"Corolla\", \"Dylan\")"
   ]
  },
  {
   "cell_type": "markdown",
   "metadata": {},
   "source": [
    "And let's assume I sell the car to a new owner. Since my data is stored in a dictionary, I can modify it directly:"
   ]
  },
  {
   "cell_type": "code",
   "execution_count": 53,
   "metadata": {},
   "outputs": [
    {
     "data": {
      "text/plain": [
       "'Chris'"
      ]
     },
     "execution_count": 53,
     "metadata": {},
     "output_type": "execute_result"
    }
   ],
   "source": [
    "new_car['owner'] = 'Chris'\n",
    "new_car.get('owner')"
   ]
  },
  {
   "cell_type": "markdown",
   "metadata": {},
   "source": [
    "In the real world, changing ownership isn't this easy. The new owner might have to establish forms with the DMV and pay a registration fee. Let's create functions for all of this and abstract our logic into a new, `change_owner` function:"
   ]
  },
  {
   "cell_type": "code",
   "execution_count": 55,
   "metadata": {},
   "outputs": [
    {
     "data": {
      "text/plain": [
       "{'make': 'Toyota',\n",
       " 'miles': 0,\n",
       " 'model': 'Corolla',\n",
       " 'owner': 'Lisa',\n",
       " 'registered_with_dmv': True,\n",
       " 'registration_fee_payed': True}"
      ]
     },
     "execution_count": 55,
     "metadata": {},
     "output_type": "execute_result"
    }
   ],
   "source": [
    "def register_with_dmv(car):\n",
    "    \"\"\" Register the new owner for this car with the DMV \n",
    "    \"\"\"\n",
    "    car['registered_with_dmv'] = True\n",
    "    \n",
    "def pay_registration_fee(car):\n",
    "    \"\"\" Owner pays a registration fee for car \n",
    "    \"\"\"\n",
    "    car['registration_fee_payed'] = True\n",
    "    \n",
    "def change_owner(car, owner):\n",
    "    \"\"\" Change the owner of car to the given owner\n",
    "    \"\"\"\n",
    "    car['owner'] = owner\n",
    "    register_with_dmv(car)\n",
    "    pay_registration_fee(car)\n",
    "    \n",
    "\n",
    "change_owner(new_car, \"Lisa\")\n",
    "new_car"
   ]
  },
  {
   "cell_type": "markdown",
   "metadata": {},
   "source": [
    "Now that we know a little bit about how a car works, let's see how we might model this same behavior in a class:"
   ]
  },
  {
   "cell_type": "code",
   "execution_count": 84,
   "metadata": {},
   "outputs": [],
   "source": [
    "class Car():\n",
    "    def __init__(self, make, model, owner):\n",
    "        self.make = make\n",
    "        self.model = model\n",
    "        self.owner = owner\n",
    "        self.miles = 0\n",
    "        \n",
    "    # This function runs when we print our object\n",
    "    # \"repr\" stands for \"representation\"\n",
    "    def __repr__(self):\n",
    "        return \"{owner} owns a {make} {model}\".format(make=self.make, model=self.model, owner=self.owner)\n",
    "        \n",
    "    def drive(self, num_miles):\n",
    "        self.miles += num_miles\n",
    "        \n",
    "    def register_with_dmv(self):\n",
    "        \"\"\" Register the new owner for this car with the DMV \n",
    "        \"\"\"\n",
    "        self.registered_with_dmv = True\n",
    "        \n",
    "    def pay_registration_fee(self):\n",
    "        \"\"\" Owner pays a registration fee for car \n",
    "        \"\"\"\n",
    "        self.registration_fee_payed = True\n",
    "\n",
    "    def change_owner(self, owner):\n",
    "        \"\"\" Change the owner of car to the given owner\n",
    "        \"\"\"\n",
    "        self.owner = owner\n",
    "        self.register_with_dmv()\n",
    "        self.pay_registration_fee()"
   ]
  },
  {
   "cell_type": "code",
   "execution_count": 89,
   "metadata": {},
   "outputs": [],
   "source": [
    "car_object = Car('Toyota', 'Corolla', 'Dylan')"
   ]
  },
  {
   "cell_type": "code",
   "execution_count": 90,
   "metadata": {},
   "outputs": [],
   "source": [
    "car_object.drive(100)"
   ]
  },
  {
   "cell_type": "code",
   "execution_count": 91,
   "metadata": {},
   "outputs": [],
   "source": [
    "car_object.change_owner(\"Lisa\")"
   ]
  },
  {
   "cell_type": "code",
   "execution_count": 92,
   "metadata": {},
   "outputs": [
    {
     "data": {
      "text/plain": [
       "Lisa owns a Toyota Corolla"
      ]
     },
     "execution_count": 92,
     "metadata": {},
     "output_type": "execute_result"
    }
   ],
   "source": [
    "car_object"
   ]
  },
  {
   "cell_type": "markdown",
   "metadata": {},
   "source": [
    "If we compare using functions to manage our car, vs. using our `Car` class, a few differences arise:\n",
    "\n",
    "* With functions, the functions to create a car and drive a car are separate. This means we have to pass our instance of our car (the `my_car` dictionary, here) to the `drive_car` function. That's not the case with classes. \n",
    "* With functions, we need to append a `_car` suffix to every function (e.g. `drive_car`). Since class methods are executed on the object themselves, we can simply name our method `drive` - there's no need for the `_car` suffix since we're running the method on our car.\n",
    "* With classes, we \"carry\" our data and the methods that operate on that data with our object. We can examine all the methods we can perform on our object using `dir()`. With functions, we'd have to search some large list of functions to see which functions work for our car."
   ]
  }
 ],
 "metadata": {
  "kernelspec": {
   "display_name": "Python 3",
   "language": "python",
   "name": "python3"
  },
  "language_info": {
   "codemirror_mode": {
    "name": "ipython",
    "version": 3
   },
   "file_extension": ".py",
   "mimetype": "text/x-python",
   "name": "python",
   "nbconvert_exporter": "python",
   "pygments_lexer": "ipython3",
   "version": "3.5.1"
  }
 },
 "nbformat": 4,
 "nbformat_minor": 2
}
